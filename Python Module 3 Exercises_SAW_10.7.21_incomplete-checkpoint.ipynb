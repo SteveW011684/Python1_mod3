{
 "cells": [
  {
   "cell_type": "markdown",
   "metadata": {},
   "source": [
    "Exercise 1. Ask for a color and store that answer. \n",
    "If the answer is grey then print out you found Victor's favorite color.\n",
    "Otherwise print out the color is not Victor's favorite color."
   ]
  },
  {
   "cell_type": "code",
   "execution_count": 8,
   "metadata": {},
   "outputs": [
    {
     "name": "stdout",
     "output_type": "stream",
     "text": [
      "Ask for a color: green\n",
      "The color is not Victor's favorite color.\n",
      "None\n",
      "Ask for a color: grey\n",
      "You found victors favorite color\n",
      "None\n"
     ]
    }
   ],
   "source": [
    "#define the function\n",
    "def VicsFav(color) :\n",
    "    if color == \"grey\" :\n",
    "        print(\"You found victors favorite color\")\n",
    "    else :\n",
    "        print(\"The color is not Victor's favorite color.\")\n",
    "\n",
    "\n",
    "#call the function with not grey\n",
    "color = str(input(\"Ask for a color: \"))\n",
    "print(VicsFav(color))\n",
    "\n",
    "#call the function with grey\n",
    "color = str(input(\"Ask for a color: \"))\n",
    "print(VicsFav(color))\n",
    "\n",
    "# ******Question for instructor: Why is it returning \"none\"?"
   ]
  },
  {
   "cell_type": "markdown",
   "metadata": {},
   "source": [
    "Exercise 2. Modify code from above exercise 1 and add in more conditions for other colors such as red, green, blue and then, write statements for them. "
   ]
  },
  {
   "cell_type": "code",
   "execution_count": 11,
   "metadata": {},
   "outputs": [
    {
     "name": "stdout",
     "output_type": "stream",
     "text": [
      "Ask for a color: purple\n",
      "Victor has no strong opinions about the color purple.\n",
      "None\n",
      "Ask for a color: red\n",
      "The color red make Victor mad!\n",
      "None\n",
      "Ask for a color: green\n",
      "Victors eyes are green.\n",
      "None\n",
      "Ask for a color: blue\n",
      "The color blue gives Victor the blues.\n",
      "None\n",
      "Ask for a color: grey\n",
      "You found Victors favorite color!\n",
      "None\n"
     ]
    }
   ],
   "source": [
    "def VicsFav_ranked(arg) :\n",
    "    if arg == \"grey\" :\n",
    "        print(\"You found Victors favorite color!\")\n",
    "    elif arg == \"red\" :\n",
    "        print(f\"The color {arg} make Victor mad!\")\n",
    "    elif arg == \"green\" :\n",
    "        print(f\"Victors eyes are {arg}.\")\n",
    "    elif arg == \"blue\"  :\n",
    "        print(f\"The color {arg} gives Victor the blues.\")\n",
    "    else :\n",
    "        print(f\"Victor has no strong opinions about the color {arg}.\")\n",
    "\n",
    "#call function for any not listed color\n",
    "color = str(input(\"Ask for a color: \"))\n",
    "print(VicsFav_ranked(color))\n",
    "#call function for red\n",
    "color = str(input(\"Ask for a color: \"))\n",
    "print(VicsFav_ranked(color))\n",
    "#call function for green\n",
    "color = str(input(\"Ask for a color: \"))\n",
    "print(VicsFav_ranked(color))\n",
    "#call function for blue\n",
    "color = str(input(\"Ask for a color: \"))\n",
    "print(VicsFav_ranked(color))\n",
    "#call function for grey\n",
    "color = str(input(\"Ask for a color: \"))\n",
    "print(VicsFav_ranked(color))           \n",
    "\n",
    "\n",
    "# ******Question for instructor: Why is it returning \"none\"?"
   ]
  },
  {
   "cell_type": "markdown",
   "metadata": {},
   "source": [
    "\n",
    "Exercise 3. Ask for an exam score and store that number. If the number is greater than 100, then print out 'You cannot have an exam score higher than 100'. If the number doesn't exceeed 100 but is greater than or equal to 75, then print out 'You did great on your exam!'. Otherwise if they scored lower than 75, then print out 'You need to study harder'."
   ]
  },
  {
   "cell_type": "code",
   "execution_count": 5,
   "metadata": {},
   "outputs": [
    {
     "name": "stdout",
     "output_type": "stream",
     "text": [
      "Enter your score, please: 101\n",
      "You can't have a score higher than 100!\n",
      "None\n"
     ]
    }
   ],
   "source": [
    "def Exam_Message(arg) :\n",
    "    if arg < 75 :\n",
    "        print(\"You need to study harder.\")\n",
    "    elif arg < 100 : # [75-100]\n",
    "        print(\"You did great on the exam\")\n",
    "    else :\n",
    "        print(\"You can't have a score higher than 100!\")\n",
    "    \n",
    "        \n",
    "score = int(input(\"Enter your score, please: \"))\n",
    "print(Exam_Message(score))\n",
    "\n",
    "# Again, I dont understand why I am getting a \"None\""
   ]
  },
  {
   "cell_type": "markdown",
   "metadata": {},
   "source": [
    "Exercise 4. \n",
    "Define two functions: \n",
    "    - a function that takes 3 arguements and returns the sum of three arguements\n",
    "    - a function that takes 2 arguements and returns the result of 1st arguement multiplied by 2nd arguement\n",
    "\n",
    "Then tell the user to choose option 1 to add three numbers or option 2 to multiply two numbers.\n",
    "If the user choose option 1 then call the addition function, otherwise if they choose option 2 then call the mulitplication function.  If the user choose anything other than option 1 or 2, then generate a friendly error messsage"
   ]
  },
  {
   "cell_type": "code",
   "execution_count": 46,
   "metadata": {},
   "outputs": [
    {
     "name": "stdout",
     "output_type": "stream",
     "text": [
      "Arg1: 1\n",
      "Arg2: 2\n",
      "Arg3: 3\n",
      "The values for this function are: 1, 2, 3.\n",
      "6\n",
      "The values for this function are: 1, 3.\n",
      "3\n"
     ]
    }
   ],
   "source": [
    "#define functions\n",
    "def addition(arg1, arg2, arge3) :\n",
    "    print(f\"The values for this function are: {arg1}, {arg2}, {arg3}.\")\n",
    "    retval = arg1 + arg2 + arg3 \n",
    "    return retval\n",
    "\n",
    "def mult(arg1,arg3) :\n",
    "    print(f\"The values for this function are: {arg1}, {arg3}.\")\n",
    "    retval2 = arg1 * arg3 \n",
    "    return retval2\n",
    "\n",
    "#user enters values\n",
    "arg1 = int(input(\"Arg1: \"))\n",
    "arg2 = int(input(\"Arg2: \"))\n",
    "arg3 = int(input(\"Arg3: \"))\n",
    "\n",
    "#print results\n",
    "print(addition(arg1, arg2, arg3))\n",
    "print(mult(arg1, arg3))\n"
   ]
  },
  {
   "cell_type": "code",
   "execution_count": 45,
   "metadata": {},
   "outputs": [
    {
     "name": "stdout",
     "output_type": "stream",
     "text": [
      "\n",
      "Enter a string: addition\n",
      "The values for this function are: 1, 2, 3.\n",
      "The value is: 6\n",
      "********************\n"
     ]
    }
   ],
   "source": [
    "#second half of exercise 4\n",
    "\n",
    "\n",
    "val1 = str(input(\"\\nEnter a string: \"))\n",
    "if(val1 == \"mult\"):\n",
    "    print(f\"The value is: {mult(arg1,arg3)}\")\n",
    "    print(\"*\" * 20)\n",
    "elif(val1 == \"addition\"):\n",
    "    print(f\"The value is: {addition(arg1, arg2, arg3)}\")\n",
    "    print(\"*\" * 20)\n",
    "else:\n",
    "    print(\"Not a function.\")\n"
   ]
  },
  {
   "cell_type": "code",
   "execution_count": 42,
   "metadata": {},
   "outputs": [
    {
     "name": "stdout",
     "output_type": "stream",
     "text": [
      "\n",
      "Enter a string: mult\n"
     ]
    }
   ],
   "source": [
    "#trying with error handling\n",
    "#cant seem to get it to work :(\n",
    "import sys\n",
    "\n",
    "\n",
    "parm1 = str(input(\"\\nEnter a string: \"))\n",
    "def user_func_input (parm1) :\n",
    "    try:\n",
    "        val1 == \"mult\"\n",
    "        print(f\"The value is: {mult(arg1,arg3)}\")\n",
    "    except:\n",
    "        print(f\"*** ERROR: {parm1} is not a function\")\n",
    "        print(\"*** ERROR: \", sys.exc_info()[0], \"occured.\")\n",
    "        "
   ]
  },
  {
   "cell_type": "code",
   "execution_count": null,
   "metadata": {},
   "outputs": [],
   "source": [
    "#ignore this cell"
   ]
  },
  {
   "cell_type": "markdown",
   "metadata": {},
   "source": [
    "Exercise 5. \n",
    "Write a function to convert a test score to a grade where  \n",
    " - 90 - 100: A\n",
    " - 80 - 89:  B\n",
    " - 70 - 79:  C\n",
    " - 60 - 69:  D\n",
    " - < 60   :  F\n",
    " \n",
    "If a score is not between 0 and 100 then print out an error message. In the program, ask the user for a score and then call your function. "
   ]
  },
  {
   "cell_type": "code",
   "execution_count": 48,
   "metadata": {},
   "outputs": [],
   "source": [
    "def testscore(arg1) :\n",
    "    if arg1 < 100 : # [90-100] :\n",
    "        grade = \"A\"\n",
    "    elif arg < 90 : # [80-89] :\n",
    "        grade = \"B\"\n",
    "    elif arg < 80 : # [70-79] :\n",
    "        grade = \"C\"\n",
    "    elif arg < 70 : # [60-69] :\n",
    "        grade = \"D\"\n",
    "    else :\n",
    "        grade = \"F\"\n",
    "    return grade\n"
   ]
  },
  {
   "cell_type": "code",
   "execution_count": 50,
   "metadata": {},
   "outputs": [
    {
     "name": "stdout",
     "output_type": "stream",
     "text": [
      "What was your test score: 99\n"
     ]
    },
    {
     "ename": "SyntaxError",
     "evalue": "'return' outside function (<ipython-input-50-3520e3892712>, line 3)",
     "output_type": "error",
     "traceback": [
      "\u001b[1;36m  File \u001b[1;32m\"<ipython-input-50-3520e3892712>\"\u001b[1;36m, line \u001b[1;32m3\u001b[0m\n\u001b[1;33m    return grade\u001b[0m\n\u001b[1;37m                ^\u001b[0m\n\u001b[1;31mSyntaxError\u001b[0m\u001b[1;31m:\u001b[0m 'return' outside function\n"
     ]
    }
   ],
   "source": [
    "arg1 = int(input(\"What was your test score: \"))\n",
    "\n",
    "return grade"
   ]
  },
  {
   "cell_type": "markdown",
   "metadata": {},
   "source": [
    "Exercise 6. Write a program to compute discounts for customers.  \n",
    "- For retail customers, \n",
    "    - if invoice total is greater than \\$100 then discount rate is 10\\%, otherwise no discount \n",
    "\n",
    "- For wholesale customers,\n",
    "    - if invoice total is greater than \\$500 then discount rate is 30\\%, otherwise discount rate is 20\\%\n",
    "    \n",
    "Get the type of customer and the invoice total from the user."
   ]
  },
  {
   "cell_type": "code",
   "execution_count": null,
   "metadata": {},
   "outputs": [],
   "source": []
  },
  {
   "cell_type": "markdown",
   "metadata": {},
   "source": [
    "Exercise 7: Write a function that accepts two parameters (a and b) and returns a result of a/b.  In this function, try to catch any exception error.  Then, write a program to get two numbers from a user, call your function using these two numbers, and print out the result in a friendly format.  All input and print statements must be done in the main program. Repeat the process until user wants to quit the program. "
   ]
  },
  {
   "cell_type": "code",
   "execution_count": null,
   "metadata": {},
   "outputs": [],
   "source": []
  },
  {
   "cell_type": "code",
   "execution_count": null,
   "metadata": {},
   "outputs": [],
   "source": []
  },
  {
   "cell_type": "markdown",
   "metadata": {},
   "source": [
    "Exercise 8: Write a function to generate a multiplication table. Then write a program to ask a user if user wants to generate a  mutiplication table for a random number or provide a number. The program should continue to run until a user wants to quit."
   ]
  },
  {
   "cell_type": "code",
   "execution_count": null,
   "metadata": {},
   "outputs": [],
   "source": []
  },
  {
   "cell_type": "code",
   "execution_count": null,
   "metadata": {},
   "outputs": [],
   "source": []
  },
  {
   "cell_type": "markdown",
   "metadata": {},
   "source": [
    "Exercise 9: Write a function to draw a right-triangle using a number as a character.Then, write a program to generate a random number between 1 and 9, call your function with that random number.  The output should look something like this:\n",
    "\n",
    "        base: 5\n",
    "        5\n",
    "        55\n",
    "        555\n",
    "        5555\n",
    "        55555\n",
    "\n",
    "\n",
    "        base: 8\n",
    "        8\n",
    "        88\n",
    "        888\n",
    "        8888\n",
    "        88888\n",
    "        888888\n",
    "        8888888\n",
    "        88888888"
   ]
  },
  {
   "cell_type": "code",
   "execution_count": null,
   "metadata": {},
   "outputs": [],
   "source": []
  },
  {
   "cell_type": "code",
   "execution_count": null,
   "metadata": {},
   "outputs": [],
   "source": []
  },
  {
   "cell_type": "markdown",
   "metadata": {},
   "source": [
    "Exercise 10: Modify function from exercise 9 to show output like this:\n",
    "\n",
    "        base: 5\n",
    "            5\n",
    "           55\n",
    "          555\n",
    "         5555 \n",
    "        55555\n",
    "        \n",
    "        base: 8\n",
    "               8\n",
    "              88\n",
    "             888\n",
    "            8888\n",
    "           88888\n",
    "          888888\n",
    "         8888888\n",
    "        88888888 "
   ]
  },
  {
   "cell_type": "code",
   "execution_count": null,
   "metadata": {},
   "outputs": [],
   "source": []
  },
  {
   "cell_type": "code",
   "execution_count": null,
   "metadata": {},
   "outputs": [],
   "source": []
  }
 ],
 "metadata": {
  "kernelspec": {
   "display_name": "Python 3",
   "language": "python",
   "name": "python3"
  },
  "language_info": {
   "codemirror_mode": {
    "name": "ipython",
    "version": 3
   },
   "file_extension": ".py",
   "mimetype": "text/x-python",
   "name": "python",
   "nbconvert_exporter": "python",
   "pygments_lexer": "ipython3",
   "version": "3.7.1"
  }
 },
 "nbformat": 4,
 "nbformat_minor": 4
}
